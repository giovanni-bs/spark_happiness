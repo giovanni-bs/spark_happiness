{
  "nbformat": 4,
  "nbformat_minor": 0,
  "metadata": {
    "colab": {
      "name": "Spark-Happiness.ipynb",
      "provenance": [],
      "collapsed_sections": []
    },
    "kernelspec": {
      "name": "python3",
      "display_name": "Python 3"
    }
  },
  "cells": [
    {
      "cell_type": "markdown",
      "metadata": {
        "id": "i8Ea4EP5VnDd"
      },
      "source": [
        "# **IMT - Instituto Mauá de Tecnologia**\n",
        "## Pós-Graduação em Ciência de Dados e Inteligência Artificial"
      ]
    },
    {
      "cell_type": "markdown",
      "metadata": {
        "id": "Yq5UXfV4V2Cn"
      },
      "source": [
        "# **Big Data - Estudo do Dataset \"Mapa da Felicidade\"**"
      ]
    },
    {
      "cell_type": "markdown",
      "metadata": {
        "id": "vD-ptUV6UdPI"
      },
      "source": [
        "<br> Por [Gabriel Lima](http://https://github.com/GabrielLima1995),  [Giovanni Schiffini](https://github.com/schiffini) e Rafael Brayner Costa. <h1>"
      ]
    },
    {
      "cell_type": "markdown",
      "metadata": {
        "id": "-R1_NYoEWQgx"
      },
      "source": [
        "**INTRODUÇÃO**"
      ]
    },
    {
      "cell_type": "markdown",
      "metadata": {
        "id": "eebK6pC-Ups8"
      },
      "source": [
        "Em 2011 a Organização das Nações Unidas (ONU) aprovou uma resolução que reconhece a busca pela felicidade como \"um objetivo humano fundamental\" e convida os estados-membros a promover políticas públicas que incluam a importância da felicidade e do bem-estar em sua aposta pelo desenvolvimento. Essencialmente, essa é a justificativa de toda e qualquer política pública.\n",
        "\n",
        "A resolução da ONU recebeu o título \"A Felicidade: para um Enfoque Holístico do Desenvolvimento\" e reconhece que a felicidade é \"um objetivo e uma aspiração universal\" e que também é \"a manifestação do espírito dos Objetivos de Desenvolvimento do Milênio\" (ODM). Os 193 países-membros da ONU foram convidados para empreenderem \"a elaboração de novas medidas que reflitam melhor a importância deste objetivo em suas políticas públicas\".\n",
        "\n",
        "O primeiro Relatório de Felicidade Mundial foi lançado em 1º de abril de 2012 como um texto fundamental para a reunião da ONU: Bem-estar e Felicidade: Definindo um Novo Paradigma Econômico, atraindo a atenção internacional. O relatório delineou o estado de felicidade mundial, as causas da felicidade e da miséria e as implicações políticas destacadas por estudos de caso. Em 2013, o segundo Relatório de Felicidade Mundial foi publicado e, desde então, tem sido publicado anualmente, com exceção de 2014. O relatório usa principalmente dados da Pesquisa Mundial Gallup. Cada relatório anual está disponível ao público para download no site World Happiness Report."
      ]
    },
    {
      "cell_type": "markdown",
      "metadata": {
        "id": "5f5-aXSfjwLJ"
      },
      "source": [
        "**OBJETIVO GERAL**"
      ]
    },
    {
      "cell_type": "markdown",
      "metadata": {
        "id": "ahYOVgEVj0SM"
      },
      "source": [
        "- Apresentar os melhores países dentro do cada segmento;\n",
        "- Comparar o Brasil com alguns países da América do Norte e Europa.\n",
        "\n",
        "\n"
      ]
    },
    {
      "cell_type": "markdown",
      "metadata": {
        "id": "j2vq_aE6ZPQv"
      },
      "source": [
        "**OBJETIVO ESPECÍFICO**"
      ]
    },
    {
      "cell_type": "markdown",
      "metadata": {
        "id": "lAsb2PyZZV_f"
      },
      "source": [
        "- Apresentar técnicas de processamento em Python voltadas para Big Data, especialmente o Spark."
      ]
    },
    {
      "cell_type": "markdown",
      "metadata": {
        "id": "Deb7YCRK5GJ4"
      },
      "source": [
        "## PySpark"
      ]
    },
    {
      "cell_type": "markdown",
      "metadata": {
        "id": "A-yJUnOmA9Bg"
      },
      "source": [
        "Instalando o PySpark, que não é um pacote padrão do Google Colab:"
      ]
    },
    {
      "cell_type": "code",
      "metadata": {
        "colab": {
          "base_uri": "https://localhost:8080/"
        },
        "id": "h_S8S7uw9O5H",
        "outputId": "0c1d8a60-43da-467d-e7f2-d864c752e09f"
      },
      "source": [
        "!pip install pyspark"
      ],
      "execution_count": 1,
      "outputs": [
        {
          "output_type": "stream",
          "text": [
            "Collecting pyspark\n",
            "\u001b[?25l  Downloading https://files.pythonhosted.org/packages/f0/26/198fc8c0b98580f617cb03cb298c6056587b8f0447e20fa40c5b634ced77/pyspark-3.0.1.tar.gz (204.2MB)\n",
            "\u001b[K     |████████████████████████████████| 204.2MB 66kB/s \n",
            "\u001b[?25hCollecting py4j==0.10.9\n",
            "\u001b[?25l  Downloading https://files.pythonhosted.org/packages/9e/b6/6a4fb90cd235dc8e265a6a2067f2a2c99f0d91787f06aca4bcf7c23f3f80/py4j-0.10.9-py2.py3-none-any.whl (198kB)\n",
            "\u001b[K     |████████████████████████████████| 204kB 43.6MB/s \n",
            "\u001b[?25hBuilding wheels for collected packages: pyspark\n",
            "  Building wheel for pyspark (setup.py) ... \u001b[?25l\u001b[?25hdone\n",
            "  Created wheel for pyspark: filename=pyspark-3.0.1-py2.py3-none-any.whl size=204612243 sha256=da61e2338990db90a5e3da049b8257c10296f2c31ec900adfb470de389e96d6a\n",
            "  Stored in directory: /root/.cache/pip/wheels/5e/bd/07/031766ca628adec8435bb40f0bd83bb676ce65ff4007f8e73f\n",
            "Successfully built pyspark\n",
            "Installing collected packages: py4j, pyspark\n",
            "Successfully installed py4j-0.10.9 pyspark-3.0.1\n"
          ],
          "name": "stdout"
        }
      ]
    },
    {
      "cell_type": "markdown",
      "metadata": {
        "id": "HxoKv25cWWkl"
      },
      "source": [
        "Importando as bibliotecas e criando a sessão no Spark:"
      ]
    },
    {
      "cell_type": "code",
      "metadata": {
        "id": "7QXT3aLs3o5Z"
      },
      "source": [
        "import pandas as pd\n",
        "import numpy as np\n",
        "import seaborn as sns\n",
        "import matplotlib.pyplot as plt\n",
        "from pyspark.sql import SparkSession\n",
        "import pyspark.sql.functions as F\n",
        "spark = SparkSession.builder.appName(\"world-happiness\").getOrCreate()"
      ],
      "execution_count": 13,
      "outputs": []
    },
    {
      "cell_type": "markdown",
      "metadata": {
        "id": "xjRP1nw9rc2i"
      },
      "source": [
        "Carregando o dataset em CSV:"
      ]
    },
    {
      "cell_type": "code",
      "metadata": {
        "id": "XmuQb0pK3vzH"
      },
      "source": [
        "df = spark.read.csv(\"2019.csv\", inferSchema=True, header=True)\n"
      ],
      "execution_count": 3,
      "outputs": []
    },
    {
      "cell_type": "markdown",
      "metadata": {
        "id": "zliGi-CFsgOe"
      },
      "source": [
        "Entendendo o tipo dos dados:"
      ]
    },
    {
      "cell_type": "code",
      "metadata": {
        "colab": {
          "base_uri": "https://localhost:8080/"
        },
        "id": "r-Yg6gMN_425",
        "outputId": "9c239a48-0ebb-4039-c101-a663432cee11"
      },
      "source": [
        "df.printSchema()"
      ],
      "execution_count": 4,
      "outputs": [
        {
          "output_type": "stream",
          "text": [
            "root\n",
            " |-- Overall rank: integer (nullable = true)\n",
            " |-- Country or region: string (nullable = true)\n",
            " |-- Score: double (nullable = true)\n",
            " |-- GDP per capita: double (nullable = true)\n",
            " |-- Social support: double (nullable = true)\n",
            " |-- Healthy life expectancy: double (nullable = true)\n",
            " |-- Freedom to make life choices: double (nullable = true)\n",
            " |-- Generosity: double (nullable = true)\n",
            " |-- Perceptions of corruption: double (nullable = true)\n",
            "\n"
          ],
          "name": "stdout"
        }
      ]
    },
    {
      "cell_type": "markdown",
      "metadata": {
        "id": "rEHsGIj7slir"
      },
      "source": [
        "Verificando o cabeçalho:"
      ]
    },
    {
      "cell_type": "code",
      "metadata": {
        "colab": {
          "base_uri": "https://localhost:8080/"
        },
        "id": "L4tAsKYcAAXT",
        "outputId": "ac811297-1675-4b56-feab-cb7ef9b247b6"
      },
      "source": [
        "df.show(n=5)"
      ],
      "execution_count": 10,
      "outputs": [
        {
          "output_type": "stream",
          "text": [
            "+------------+-----------------+-----+--------------+--------------+-----------------------+----------------------------+----------+-------------------------+\n",
            "|Overall rank|Country or region|Score|GDP per capita|Social support|Healthy life expectancy|Freedom to make life choices|Generosity|Perceptions of corruption|\n",
            "+------------+-----------------+-----+--------------+--------------+-----------------------+----------------------------+----------+-------------------------+\n",
            "|           1|          Finland|7.769|          1.34|         1.587|                  0.986|                       0.596|     0.153|                    0.393|\n",
            "|           2|          Denmark|  7.6|         1.383|         1.573|                  0.996|                       0.592|     0.252|                     0.41|\n",
            "|           3|           Norway|7.554|         1.488|         1.582|                  1.028|                       0.603|     0.271|                    0.341|\n",
            "|           4|          Iceland|7.494|          1.38|         1.624|                  1.026|                       0.591|     0.354|                    0.118|\n",
            "|           5|      Netherlands|7.488|         1.396|         1.522|                  0.999|                       0.557|     0.322|                    0.298|\n",
            "+------------+-----------------+-----+--------------+--------------+-----------------------+----------------------------+----------+-------------------------+\n",
            "only showing top 5 rows\n",
            "\n"
          ],
          "name": "stdout"
        }
      ]
    },
    {
      "cell_type": "markdown",
      "metadata": {
        "id": "Gn0hVBiZsqhz"
      },
      "source": [
        "Verificando a quantidade total de linhas:"
      ]
    },
    {
      "cell_type": "code",
      "metadata": {
        "colab": {
          "base_uri": "https://localhost:8080/"
        },
        "id": "u2KHdT60sc0K",
        "outputId": "5157e40f-866c-47c9-c1b8-4f8524815496"
      },
      "source": [
        "df.count()"
      ],
      "execution_count": 11,
      "outputs": [
        {
          "output_type": "execute_result",
          "data": {
            "text/plain": [
              "156"
            ]
          },
          "metadata": {
            "tags": []
          },
          "execution_count": 11
        }
      ]
    },
    {
      "cell_type": "markdown",
      "metadata": {
        "id": "oZ6XqASQsz0F"
      },
      "source": [
        "Descrevendo as colunas:"
      ]
    },
    {
      "cell_type": "code",
      "metadata": {
        "colab": {
          "base_uri": "https://localhost:8080/"
        },
        "id": "zd-L1gr5AFYm",
        "outputId": "47ad6184-0759-4343-f879-4b3291945081"
      },
      "source": [
        "df.describe().show()"
      ],
      "execution_count": 6,
      "outputs": [
        {
          "output_type": "stream",
          "text": [
            "+-------+-----------------+-----------------+-----------------+-------------------+------------------+-----------------------+----------------------------+-------------------+-------------------------+\n",
            "|summary|     Overall rank|Country or region|            Score|     GDP per capita|    Social support|Healthy life expectancy|Freedom to make life choices|         Generosity|Perceptions of corruption|\n",
            "+-------+-----------------+-----------------+-----------------+-------------------+------------------+-----------------------+----------------------------+-------------------+-------------------------+\n",
            "|  count|              156|              156|              156|                156|               156|                    156|                         156|                156|                      156|\n",
            "|   mean|             78.5|             null|5.407096153846153| 0.9051474358974363|1.2088141025641024|     0.7252435897435898|          0.3925705128205128|0.18484615384615383|      0.11060256410256411|\n",
            "| stddev|45.17742799230607|             null| 1.11311986879567|0.39838946424220284|0.2991914006976929|    0.24212399840537244|         0.14328947070604733|0.09525444050922019|      0.09453783536745279|\n",
            "|    min|                1|      Afghanistan|            2.853|                0.0|               0.0|                    0.0|                         0.0|                0.0|                      0.0|\n",
            "|    max|              156|         Zimbabwe|            7.769|              1.684|             1.624|                  1.141|                       0.631|              0.566|                    0.453|\n",
            "+-------+-----------------+-----------------+-----------------+-------------------+------------------+-----------------------+----------------------------+-------------------+-------------------------+\n",
            "\n"
          ],
          "name": "stdout"
        }
      ]
    },
    {
      "cell_type": "markdown",
      "metadata": {
        "id": "KoSRNQuJthBf"
      },
      "source": [
        "Verificando se há valores do tipo \"null\":"
      ]
    },
    {
      "cell_type": "code",
      "metadata": {
        "colab": {
          "base_uri": "https://localhost:8080/"
        },
        "id": "EMvOLokmtXy0",
        "outputId": "4ddb2b3a-0a38-41bb-e35e-f1faf9198b1a"
      },
      "source": [
        "df.select([F.count(F.when(F.isnull(c), c)).alias(c) for c in df.columns]).show()"
      ],
      "execution_count": 14,
      "outputs": [
        {
          "output_type": "stream",
          "text": [
            "+------------+-----------------+-----+--------------+--------------+-----------------------+----------------------------+----------+-------------------------+\n",
            "|Overall rank|Country or region|Score|GDP per capita|Social support|Healthy life expectancy|Freedom to make life choices|Generosity|Perceptions of corruption|\n",
            "+------------+-----------------+-----+--------------+--------------+-----------------------+----------------------------+----------+-------------------------+\n",
            "|           0|                0|    0|             0|             0|                      0|                           0|         0|                        0|\n",
            "+------------+-----------------+-----+--------------+--------------+-----------------------+----------------------------+----------+-------------------------+\n",
            "\n"
          ],
          "name": "stdout"
        }
      ]
    },
    {
      "cell_type": "markdown",
      "metadata": {
        "id": "j18Pgk8rtl8a"
      },
      "source": [
        "Não há nenhuma entrada com valor inválido. Se houvesse, seria necessário criar um novo dataframe sem os valores \"null\", pois um Dataframe do PySpark é imutável."
      ]
    },
    {
      "cell_type": "markdown",
      "metadata": {
        "id": "FKKLinhFtxuz"
      },
      "source": [
        "Criação do dataframe reduzido somente com os dados que são do nosso interesse:"
      ]
    },
    {
      "cell_type": "code",
      "metadata": {
        "id": "MGrWcFXZBoM_"
      },
      "source": [
        "df_reduzido = df.select(['Country or region', 'Score', 'GDP per capita', 'Healthy life expectancy'])"
      ],
      "execution_count": 15,
      "outputs": []
    },
    {
      "cell_type": "code",
      "metadata": {
        "colab": {
          "base_uri": "https://localhost:8080/"
        },
        "id": "NAGPXN39Bw6e",
        "outputId": "9cf6de06-17df-411e-919d-2dfe24b8c7fc"
      },
      "source": [
        "df_reduzido.show()"
      ],
      "execution_count": 16,
      "outputs": [
        {
          "output_type": "stream",
          "text": [
            "+-----------------+-----+--------------+-----------------------+\n",
            "|Country or region|Score|GDP per capita|Healthy life expectancy|\n",
            "+-----------------+-----+--------------+-----------------------+\n",
            "|          Finland|7.769|          1.34|                  0.986|\n",
            "|          Denmark|  7.6|         1.383|                  0.996|\n",
            "|           Norway|7.554|         1.488|                  1.028|\n",
            "|          Iceland|7.494|          1.38|                  1.026|\n",
            "|      Netherlands|7.488|         1.396|                  0.999|\n",
            "|      Switzerland| 7.48|         1.452|                  1.052|\n",
            "|           Sweden|7.343|         1.387|                  1.009|\n",
            "|      New Zealand|7.307|         1.303|                  1.026|\n",
            "|           Canada|7.278|         1.365|                  1.039|\n",
            "|          Austria|7.246|         1.376|                  1.016|\n",
            "|        Australia|7.228|         1.372|                  1.036|\n",
            "|       Costa Rica|7.167|         1.034|                  0.963|\n",
            "|           Israel|7.139|         1.276|                  1.029|\n",
            "|       Luxembourg| 7.09|         1.609|                  1.012|\n",
            "|   United Kingdom|7.054|         1.333|                  0.996|\n",
            "|          Ireland|7.021|         1.499|                  0.999|\n",
            "|          Germany|6.985|         1.373|                  0.987|\n",
            "|          Belgium|6.923|         1.356|                  0.986|\n",
            "|    United States|6.892|         1.433|                  0.874|\n",
            "|   Czech Republic|6.852|         1.269|                   0.92|\n",
            "+-----------------+-----+--------------+-----------------------+\n",
            "only showing top 20 rows\n",
            "\n"
          ],
          "name": "stdout"
        }
      ]
    },
    {
      "cell_type": "markdown",
      "metadata": {
        "id": "tgU-BB2lt8wY"
      },
      "source": [
        "Removendo os espaços dos nomes das colunas, para facilitar sua utilização em SQL:"
      ]
    },
    {
      "cell_type": "code",
      "metadata": {
        "id": "yvB8XmgRVq-2"
      },
      "source": [
        "df_reduzido=df_reduzido.withColumnRenamed(\"GDP per capita\",\"gdp_per_capita\")"
      ],
      "execution_count": 17,
      "outputs": []
    },
    {
      "cell_type": "code",
      "metadata": {
        "id": "9zQLJItEVs9C"
      },
      "source": [
        "df_reduzido=df_reduzido.withColumnRenamed(\"Country or Region\",\"country_or_region\")"
      ],
      "execution_count": 18,
      "outputs": []
    },
    {
      "cell_type": "code",
      "metadata": {
        "id": "jgn_P4dsV2kZ"
      },
      "source": [
        "df_reduzido=df_reduzido.withColumnRenamed(\"Healthy life expectancy\",\"healthy_life_expectancy\")"
      ],
      "execution_count": 20,
      "outputs": []
    },
    {
      "cell_type": "code",
      "metadata": {
        "id": "hvhAIAvUuNwb"
      },
      "source": [
        "df_reduzido=df_reduzido.withColumnRenamed(\"Score\",\"score\")"
      ],
      "execution_count": 22,
      "outputs": []
    },
    {
      "cell_type": "markdown",
      "metadata": {
        "id": "0eZrBEtNuCfo"
      },
      "source": [
        "Esta função withColumn permite acrescentar, alterar e remover colunas do dataframe.\n",
        "Abaixo, vemos o resultado das alterações no cabeçalho:"
      ]
    },
    {
      "cell_type": "code",
      "metadata": {
        "colab": {
          "base_uri": "https://localhost:8080/"
        },
        "id": "Lgg2aiWqV_A5",
        "outputId": "f08acabe-3201-45ba-b87f-7fe8c49a7c72"
      },
      "source": [
        "df_reduzido.show(20)"
      ],
      "execution_count": 27,
      "outputs": [
        {
          "output_type": "stream",
          "text": [
            "+-----------------+-----+--------------+-----------------------+\n",
            "|country_or_region|score|gdp_per_capita|healthy_life_expectancy|\n",
            "+-----------------+-----+--------------+-----------------------+\n",
            "|          Finland|7.769|          1.34|                  0.986|\n",
            "|          Denmark|  7.6|         1.383|                  0.996|\n",
            "|           Norway|7.554|         1.488|                  1.028|\n",
            "|          Iceland|7.494|          1.38|                  1.026|\n",
            "|      Netherlands|7.488|         1.396|                  0.999|\n",
            "|      Switzerland| 7.48|         1.452|                  1.052|\n",
            "|           Sweden|7.343|         1.387|                  1.009|\n",
            "|      New Zealand|7.307|         1.303|                  1.026|\n",
            "|           Canada|7.278|         1.365|                  1.039|\n",
            "|          Austria|7.246|         1.376|                  1.016|\n",
            "|        Australia|7.228|         1.372|                  1.036|\n",
            "|       Costa Rica|7.167|         1.034|                  0.963|\n",
            "|           Israel|7.139|         1.276|                  1.029|\n",
            "|       Luxembourg| 7.09|         1.609|                  1.012|\n",
            "|   United Kingdom|7.054|         1.333|                  0.996|\n",
            "|          Ireland|7.021|         1.499|                  0.999|\n",
            "|          Germany|6.985|         1.373|                  0.987|\n",
            "|          Belgium|6.923|         1.356|                  0.986|\n",
            "|    United States|6.892|         1.433|                  0.874|\n",
            "|   Czech Republic|6.852|         1.269|                   0.92|\n",
            "+-----------------+-----+--------------+-----------------------+\n",
            "only showing top 20 rows\n",
            "\n"
          ],
          "name": "stdout"
        }
      ]
    },
    {
      "cell_type": "markdown",
      "metadata": {
        "id": "rmcWFzabvgIx"
      },
      "source": [
        "Há valores iguais a zero na coluna \"GDP per capita\". Trata-se de um erro, pois não existe país com PIB igual a zero. Vamos remover estes valores com a função \"where\" do PySpark:"
      ]
    },
    {
      "cell_type": "code",
      "metadata": {
        "id": "AwWGui_WvEg2"
      },
      "source": [
        "df_clean = df_reduzido.where(\"gdp_per_capita>0\")"
      ],
      "execution_count": 28,
      "outputs": []
    },
    {
      "cell_type": "code",
      "metadata": {
        "colab": {
          "base_uri": "https://localhost:8080/"
        },
        "id": "ZIK876MovPQ8",
        "outputId": "b85159c8-6256-4e3a-e3f3-5071cd9259e4"
      },
      "source": [
        "df_clean.show(20)"
      ],
      "execution_count": 29,
      "outputs": [
        {
          "output_type": "stream",
          "text": [
            "+-----------------+-----+--------------+-----------------------+\n",
            "|country_or_region|score|gdp_per_capita|healthy_life_expectancy|\n",
            "+-----------------+-----+--------------+-----------------------+\n",
            "|          Finland|7.769|          1.34|                  0.986|\n",
            "|          Denmark|  7.6|         1.383|                  0.996|\n",
            "|           Norway|7.554|         1.488|                  1.028|\n",
            "|          Iceland|7.494|          1.38|                  1.026|\n",
            "|      Netherlands|7.488|         1.396|                  0.999|\n",
            "|      Switzerland| 7.48|         1.452|                  1.052|\n",
            "|           Sweden|7.343|         1.387|                  1.009|\n",
            "|      New Zealand|7.307|         1.303|                  1.026|\n",
            "|           Canada|7.278|         1.365|                  1.039|\n",
            "|          Austria|7.246|         1.376|                  1.016|\n",
            "|        Australia|7.228|         1.372|                  1.036|\n",
            "|       Costa Rica|7.167|         1.034|                  0.963|\n",
            "|           Israel|7.139|         1.276|                  1.029|\n",
            "|       Luxembourg| 7.09|         1.609|                  1.012|\n",
            "|   United Kingdom|7.054|         1.333|                  0.996|\n",
            "|          Ireland|7.021|         1.499|                  0.999|\n",
            "|          Germany|6.985|         1.373|                  0.987|\n",
            "|          Belgium|6.923|         1.356|                  0.986|\n",
            "|    United States|6.892|         1.433|                  0.874|\n",
            "|   Czech Republic|6.852|         1.269|                   0.92|\n",
            "+-----------------+-----+--------------+-----------------------+\n",
            "only showing top 20 rows\n",
            "\n"
          ],
          "name": "stdout"
        }
      ]
    },
    {
      "cell_type": "markdown",
      "metadata": {
        "id": "33j9BFz3wG98"
      },
      "source": [
        "Verificando o conteúdo do novo dataframe, não há valores iguais a zero no \"gdp_per_capita\":"
      ]
    },
    {
      "cell_type": "code",
      "metadata": {
        "colab": {
          "base_uri": "https://localhost:8080/"
        },
        "id": "kN8SyrBwvwOo",
        "outputId": "3ace8fc3-6599-4d3e-facb-0d40641d94c6"
      },
      "source": [
        "df_clean.describe().show()"
      ],
      "execution_count": 30,
      "outputs": [
        {
          "output_type": "stream",
          "text": [
            "+-------+-----------------+------------------+------------------+-----------------------+\n",
            "|summary|country_or_region|             score|    gdp_per_capita|healthy_life_expectancy|\n",
            "+-------+-----------------+------------------+------------------+-----------------------+\n",
            "|  count|              155|               155|               155|                    155|\n",
            "|   mean|             null|5.4118645161290315| 0.910987096774194|     0.7281935483870969|\n",
            "| stddev|             null| 1.115128459651589|0.3929254082593822|     0.2400798594616911|\n",
            "|    min|      Afghanistan|             2.853|             0.026|                    0.0|\n",
            "|    max|         Zimbabwe|             7.769|             1.684|                  1.141|\n",
            "+-------+-----------------+------------------+------------------+-----------------------+\n",
            "\n"
          ],
          "name": "stdout"
        }
      ]
    },
    {
      "cell_type": "markdown",
      "metadata": {
        "id": "LyXCfERc5NPc"
      },
      "source": [
        "## Spark.SQL"
      ]
    },
    {
      "cell_type": "markdown",
      "metadata": {
        "id": "mRM7tgr3wTv7"
      },
      "source": [
        "Criamos uma tabela SQL a partir do dataframe \"limpo\":"
      ]
    },
    {
      "cell_type": "code",
      "metadata": {
        "id": "q439SkwoCnSx"
      },
      "source": [
        "df_clean.createOrReplaceTempView('df_clean')"
      ],
      "execution_count": 66,
      "outputs": []
    },
    {
      "cell_type": "markdown",
      "metadata": {
        "id": "4bNGOovTwZ3l"
      },
      "source": [
        "Podemos, portanto, utilizar as ferramentas da linguagem SQL. Começaremos filtrando somente os países nos quais o score de felicidade é maior que 7:"
      ]
    },
    {
      "cell_type": "code",
      "metadata": {
        "id": "IyQYStjjDFP4"
      },
      "source": [
        "highest_scores = spark.sql(\"SELECT * FROM df_clean WHERE score > 7\")"
      ],
      "execution_count": 34,
      "outputs": []
    },
    {
      "cell_type": "code",
      "metadata": {
        "colab": {
          "base_uri": "https://localhost:8080/"
        },
        "id": "2pMNGASqSgZk",
        "outputId": "03bc2d24-487c-43ca-840f-4634128bc2d3"
      },
      "source": [
        "highest_scores.show()"
      ],
      "execution_count": 35,
      "outputs": [
        {
          "output_type": "stream",
          "text": [
            "+-----------------+-----+--------------+-----------------------+\n",
            "|country_or_region|score|gdp_per_capita|healthy_life_expectancy|\n",
            "+-----------------+-----+--------------+-----------------------+\n",
            "|          Finland|7.769|          1.34|                  0.986|\n",
            "|          Denmark|  7.6|         1.383|                  0.996|\n",
            "|           Norway|7.554|         1.488|                  1.028|\n",
            "|          Iceland|7.494|          1.38|                  1.026|\n",
            "|      Netherlands|7.488|         1.396|                  0.999|\n",
            "|      Switzerland| 7.48|         1.452|                  1.052|\n",
            "|           Sweden|7.343|         1.387|                  1.009|\n",
            "|      New Zealand|7.307|         1.303|                  1.026|\n",
            "|           Canada|7.278|         1.365|                  1.039|\n",
            "|          Austria|7.246|         1.376|                  1.016|\n",
            "|        Australia|7.228|         1.372|                  1.036|\n",
            "|       Costa Rica|7.167|         1.034|                  0.963|\n",
            "|           Israel|7.139|         1.276|                  1.029|\n",
            "|       Luxembourg| 7.09|         1.609|                  1.012|\n",
            "|   United Kingdom|7.054|         1.333|                  0.996|\n",
            "|          Ireland|7.021|         1.499|                  0.999|\n",
            "+-----------------+-----+--------------+-----------------------+\n",
            "\n"
          ],
          "name": "stdout"
        }
      ]
    },
    {
      "cell_type": "markdown",
      "metadata": {
        "id": "3JZXHndpwn47"
      },
      "source": [
        "Podemos ordenar nosso dataframe por um valor específico. Segue abaixo uma nova tabela ordenada por PIB per capita. O comando \"DESC\" é necessário para ordenarmos de forma decrescente, pois o padrão do SQL é em ordem ascendente:"
      ]
    },
    {
      "cell_type": "code",
      "metadata": {
        "id": "NzG84GLtSh1u"
      },
      "source": [
        "highest_GDP = spark.sql(\"SELECT * FROM df_clean ORDER BY gdp_per_capita DESC\")"
      ],
      "execution_count": 37,
      "outputs": []
    },
    {
      "cell_type": "code",
      "metadata": {
        "colab": {
          "base_uri": "https://localhost:8080/"
        },
        "id": "Uo5u5tMqU1lS",
        "outputId": "757dd541-67cc-4ff4-fb08-1e4f8c18856a"
      },
      "source": [
        "highest_GDP.show()"
      ],
      "execution_count": 38,
      "outputs": [
        {
          "output_type": "stream",
          "text": [
            "+--------------------+-----+--------------+-----------------------+\n",
            "|   country_or_region|score|gdp_per_capita|healthy_life_expectancy|\n",
            "+--------------------+-----+--------------+-----------------------+\n",
            "|               Qatar|6.374|         1.684|                  0.871|\n",
            "|          Luxembourg| 7.09|         1.609|                  1.012|\n",
            "|           Singapore|6.262|         1.572|                  1.141|\n",
            "|United Arab Emirates|6.825|         1.503|                  0.825|\n",
            "|              Kuwait|6.021|           1.5|                  0.808|\n",
            "|             Ireland|7.021|         1.499|                  0.999|\n",
            "|              Norway|7.554|         1.488|                  1.028|\n",
            "|         Switzerland| 7.48|         1.452|                  1.052|\n",
            "|           Hong Kong| 5.43|         1.438|                  1.122|\n",
            "|       United States|6.892|         1.433|                  0.874|\n",
            "|        Saudi Arabia|6.375|         1.403|                  0.795|\n",
            "|         Netherlands|7.488|         1.396|                  0.999|\n",
            "|              Sweden|7.343|         1.387|                  1.009|\n",
            "|             Denmark|  7.6|         1.383|                  0.996|\n",
            "|             Iceland|7.494|          1.38|                  1.026|\n",
            "|             Austria|7.246|         1.376|                  1.016|\n",
            "|             Germany|6.985|         1.373|                  0.987|\n",
            "|           Australia|7.228|         1.372|                  1.036|\n",
            "|              Taiwan|6.446|         1.368|                  0.914|\n",
            "|              Canada|7.278|         1.365|                  1.039|\n",
            "+--------------------+-----+--------------+-----------------------+\n",
            "only showing top 20 rows\n",
            "\n"
          ],
          "name": "stdout"
        }
      ]
    },
    {
      "cell_type": "markdown",
      "metadata": {
        "id": "tqw29v5tw48b"
      },
      "source": [
        "Criaremos outra tabela ordenando os valores por expectativa de vida:"
      ]
    },
    {
      "cell_type": "code",
      "metadata": {
        "id": "pf9XqV-EU3ua"
      },
      "source": [
        "highest_health = spark.sql(\"SELECT * FROM df_clean ORDER BY healthy_life_expectancy DESC\")"
      ],
      "execution_count": 42,
      "outputs": []
    },
    {
      "cell_type": "code",
      "metadata": {
        "colab": {
          "base_uri": "https://localhost:8080/"
        },
        "id": "GJ83FZ60XWHI",
        "outputId": "81671b59-d153-4f70-97dd-f29cd4afb54c"
      },
      "source": [
        "highest_health.show()"
      ],
      "execution_count": 43,
      "outputs": [
        {
          "output_type": "stream",
          "text": [
            "+-----------------+-----+--------------+-----------------------+\n",
            "|country_or_region|score|gdp_per_capita|healthy_life_expectancy|\n",
            "+-----------------+-----+--------------+-----------------------+\n",
            "|        Singapore|6.262|         1.572|                  1.141|\n",
            "|        Hong Kong| 5.43|         1.438|                  1.122|\n",
            "|            Japan|5.886|         1.327|                  1.088|\n",
            "|            Spain|6.354|         1.286|                  1.062|\n",
            "|      Switzerland| 7.48|         1.452|                  1.052|\n",
            "|           France|6.592|         1.324|                  1.045|\n",
            "|           Cyprus|6.046|         1.263|                  1.042|\n",
            "|  Northern Cyprus|5.718|         1.263|                  1.042|\n",
            "|           Canada|7.278|         1.365|                  1.039|\n",
            "|            Italy|6.223|         1.294|                  1.039|\n",
            "|      South Korea|5.895|         1.301|                  1.036|\n",
            "|        Australia|7.228|         1.372|                  1.036|\n",
            "|           Israel|7.139|         1.276|                  1.029|\n",
            "|           Norway|7.554|         1.488|                  1.028|\n",
            "|          Iceland|7.494|          1.38|                  1.026|\n",
            "|      New Zealand|7.307|         1.303|                  1.026|\n",
            "|          Austria|7.246|         1.376|                  1.016|\n",
            "|       Luxembourg| 7.09|         1.609|                  1.012|\n",
            "|           Sweden|7.343|         1.387|                  1.009|\n",
            "|            Malta|6.726|           1.3|                  0.999|\n",
            "+-----------------+-----+--------------+-----------------------+\n",
            "only showing top 20 rows\n",
            "\n"
          ],
          "name": "stdout"
        }
      ]
    },
    {
      "cell_type": "markdown",
      "metadata": {
        "id": "LPxPR46DxRdV"
      },
      "source": [
        "Já podemos efetuar diversas análises:\n",
        "- Os países com maior riqueza por pessoa ou maior expectativa de vida não são, necessariamente, os mais felizes;\n",
        "- Os países nórdicos (Noruega, Finlândia, Dinamarca, Suécia), a Austrália e o Canadá estão entre os líderes em todos os quesitos;\n",
        "- Países como Qatar e Singapura são líderes em riqueza e expectativa de vida, mas nem sequer aparecem entre os 20 primeiros na felicidade geral. Isto se deve a outros fatores não explorados aqui, como percepção de corrupção e liberdade individual."
      ]
    },
    {
      "cell_type": "markdown",
      "metadata": {
        "id": "eBRW7w2iyeRb"
      },
      "source": [
        "Verificaremos abaixo o valor médio para cada critério analisado:"
      ]
    },
    {
      "cell_type": "code",
      "metadata": {
        "id": "fL2-hfwkdz3D"
      },
      "source": [
        "avg_score = spark.sql(\"SELECT AVG(score) FROM df_clean;\")"
      ],
      "execution_count": 44,
      "outputs": []
    },
    {
      "cell_type": "code",
      "metadata": {
        "id": "7whT_YuGeDHs"
      },
      "source": [
        "avg_gdp = spark.sql(\"SELECT AVG(gdp_per_capita) FROM df_clean;\")"
      ],
      "execution_count": 45,
      "outputs": []
    },
    {
      "cell_type": "code",
      "metadata": {
        "id": "2xXD-MJMivPp"
      },
      "source": [
        "avg_health = spark.sql(\"SELECT AVG(healthy_life_expectancy) FROM df_clean;\")"
      ],
      "execution_count": 46,
      "outputs": []
    },
    {
      "cell_type": "code",
      "metadata": {
        "colab": {
          "base_uri": "https://localhost:8080/"
        },
        "id": "Flmv_fiKeBY1",
        "outputId": "96b4ec26-bf64-4344-f3ed-876a2573036c"
      },
      "source": [
        "avg_score.show()"
      ],
      "execution_count": 47,
      "outputs": [
        {
          "output_type": "stream",
          "text": [
            "+------------------+\n",
            "|        avg(score)|\n",
            "+------------------+\n",
            "|5.4118645161290315|\n",
            "+------------------+\n",
            "\n"
          ],
          "name": "stdout"
        }
      ]
    },
    {
      "cell_type": "code",
      "metadata": {
        "colab": {
          "base_uri": "https://localhost:8080/"
        },
        "id": "BMOMTE8GipQ8",
        "outputId": "b8b4f22e-e2e0-4422-f4b2-ffedb68d3dff"
      },
      "source": [
        "avg_gdp.show()"
      ],
      "execution_count": 48,
      "outputs": [
        {
          "output_type": "stream",
          "text": [
            "+-------------------+\n",
            "|avg(gdp_per_capita)|\n",
            "+-------------------+\n",
            "|  0.910987096774194|\n",
            "+-------------------+\n",
            "\n"
          ],
          "name": "stdout"
        }
      ]
    },
    {
      "cell_type": "code",
      "metadata": {
        "colab": {
          "base_uri": "https://localhost:8080/"
        },
        "id": "4Q9536Wfizfu",
        "outputId": "d6ae4639-ba63-4ef1-ad29-bd4306b30d3c"
      },
      "source": [
        "avg_health.show()"
      ],
      "execution_count": 49,
      "outputs": [
        {
          "output_type": "stream",
          "text": [
            "+----------------------------+\n",
            "|avg(healthy_life_expectancy)|\n",
            "+----------------------------+\n",
            "|          0.7281935483870969|\n",
            "+----------------------------+\n",
            "\n"
          ],
          "name": "stdout"
        }
      ]
    },
    {
      "cell_type": "markdown",
      "metadata": {
        "id": "XMUzx7OAypmO"
      },
      "source": [
        "Comparando os dados do Brasil, nota-se que estamos bem acima da média em todos os quesitos verificados:"
      ]
    },
    {
      "cell_type": "code",
      "metadata": {
        "colab": {
          "base_uri": "https://localhost:8080/"
        },
        "id": "gOjIrvfYyusY",
        "outputId": "601e7de8-8010-43be-cf25-1feb21cae31d"
      },
      "source": [
        "brazil= spark.sql(\"SELECT * FROM df_clean WHERE country_or_region IN ('Brazil')\").show()"
      ],
      "execution_count": 51,
      "outputs": [
        {
          "output_type": "stream",
          "text": [
            "+-----------------+-----+--------------+-----------------------+\n",
            "|country_or_region|score|gdp_per_capita|healthy_life_expectancy|\n",
            "+-----------------+-----+--------------+-----------------------+\n",
            "|           Brazil|  6.3|         1.004|                  0.802|\n",
            "+-----------------+-----+--------------+-----------------------+\n",
            "\n"
          ],
          "name": "stdout"
        }
      ]
    },
    {
      "cell_type": "markdown",
      "metadata": {
        "id": "xRRtG-GUy3zs"
      },
      "source": [
        "Comparando o Brasil a outros países que possuem população semelhante (+ 200 milhões), verifica-se que nossos indicadores também estão bem acima da média, inclusive não tão distantes dos Estados Unidos da América:"
      ]
    },
    {
      "cell_type": "code",
      "metadata": {
        "colab": {
          "base_uri": "https://localhost:8080/"
        },
        "id": "73-masfvi00R",
        "outputId": "d9d396fb-b932-4b09-d77f-85a426cffb9f"
      },
      "source": [
        "comparison= spark.sql(\"SELECT * FROM df_reduzido WHERE Country_or_region IN ('Brazil', 'United States', 'Pakistan', 'Indonesia', 'Nigeria')\").show()"
      ],
      "execution_count": null,
      "outputs": [
        {
          "output_type": "stream",
          "text": [
            "+-----------------+-----+--------------+-----------------------+\n",
            "|Country_or_region|Score|gdp_per_capita|Healthy_life_expectancy|\n",
            "+-----------------+-----+--------------+-----------------------+\n",
            "|    United States|6.892|         1.433|                  0.874|\n",
            "|           Brazil|  6.3|         1.004|                  0.802|\n",
            "|         Pakistan|5.653|         0.677|                  0.535|\n",
            "|          Nigeria|5.265|         0.696|                  0.245|\n",
            "|        Indonesia|5.192|         0.931|                   0.66|\n",
            "+-----------------+-----+--------------+-----------------------+\n",
            "\n"
          ],
          "name": "stdout"
        }
      ]
    },
    {
      "cell_type": "markdown",
      "metadata": {
        "id": "VWIXajrfzLo8"
      },
      "source": [
        "Abaixo, uma lista de todos os países que estão abaixo da média no Score geral de felicidade:"
      ]
    },
    {
      "cell_type": "code",
      "metadata": {
        "colab": {
          "base_uri": "https://localhost:8080/"
        },
        "id": "_3-j_GTWjUVZ",
        "outputId": "cc05f303-20b0-4cbb-8e13-f71b476a50d4"
      },
      "source": [
        "below_avg= spark.sql(\"SELECT * FROM df_clean WHERE score BETWEEN 0 AND 5.407;\").show(200)"
      ],
      "execution_count": 52,
      "outputs": [
        {
          "output_type": "stream",
          "text": [
            "+--------------------+-----+--------------+-----------------------+\n",
            "|   country_or_region|score|gdp_per_capita|healthy_life_expectancy|\n",
            "+--------------------+-----+--------------+-----------------------+\n",
            "|Bosnia and Herzeg...|5.386|         0.945|                  0.845|\n",
            "|              Turkey|5.373|         1.183|                  0.808|\n",
            "|            Malaysia|5.339|         1.221|                  0.828|\n",
            "|             Belarus|5.323|         1.067|                  0.789|\n",
            "|              Greece|5.287|         1.181|                  0.999|\n",
            "|            Mongolia|5.285|         0.948|                  0.667|\n",
            "|     North Macedonia|5.274|         0.983|                  0.838|\n",
            "|             Nigeria|5.265|         0.696|                  0.245|\n",
            "|          Kyrgyzstan|5.261|         0.551|                  0.723|\n",
            "|        Turkmenistan|5.247|         1.052|                  0.657|\n",
            "|             Algeria|5.211|         1.002|                  0.785|\n",
            "|             Morocco|5.208|         0.801|                  0.782|\n",
            "|          Azerbaijan|5.208|         1.043|                  0.769|\n",
            "|             Lebanon|5.197|         0.987|                  0.815|\n",
            "|           Indonesia|5.192|         0.931|                   0.66|\n",
            "|               China|5.191|         1.029|                  0.893|\n",
            "|             Vietnam|5.175|         0.741|                  0.851|\n",
            "|              Bhutan|5.082|         0.813|                  0.604|\n",
            "|            Cameroon|5.044|         0.549|                  0.331|\n",
            "|            Bulgaria|5.011|         1.092|                  0.815|\n",
            "|               Ghana|4.996|         0.611|                  0.486|\n",
            "|         Ivory Coast|4.944|         0.569|                  0.232|\n",
            "|               Nepal|4.913|         0.446|                  0.677|\n",
            "|              Jordan|4.906|         0.837|                  0.815|\n",
            "|               Benin|4.883|         0.393|                  0.397|\n",
            "| Congo (Brazzaville)|4.812|         0.673|                  0.508|\n",
            "|               Gabon|4.799|         1.057|                  0.571|\n",
            "|                Laos|4.796|         0.764|                  0.551|\n",
            "|        South Africa|4.722|          0.96|                  0.469|\n",
            "|             Albania|4.719|         0.947|                  0.874|\n",
            "|           Venezuela|4.707|          0.96|                  0.805|\n",
            "|            Cambodia|  4.7|         0.574|                  0.637|\n",
            "|Palestinian Terri...|4.696|         0.657|                  0.672|\n",
            "|             Senegal|4.681|          0.45|                  0.571|\n",
            "|             Namibia|4.639|         0.879|                  0.477|\n",
            "|               Niger|4.628|         0.138|                  0.366|\n",
            "|        Burkina Faso|4.587|         0.331|                   0.38|\n",
            "|             Armenia|4.559|          0.85|                  0.815|\n",
            "|                Iran|4.548|           1.1|                  0.785|\n",
            "|              Guinea|4.534|          0.38|                  0.375|\n",
            "|             Georgia|4.519|         0.886|                  0.752|\n",
            "|              Gambia|4.516|         0.308|                  0.428|\n",
            "|               Kenya|4.509|         0.512|                  0.581|\n",
            "|          Mauritania| 4.49|          0.57|                  0.489|\n",
            "|          Mozambique|4.466|         0.204|                   0.39|\n",
            "|             Tunisia|4.461|         0.921|                  0.815|\n",
            "|          Bangladesh|4.456|         0.562|                  0.723|\n",
            "|                Iraq|4.437|         1.043|                  0.574|\n",
            "|    Congo (Kinshasa)|4.418|         0.094|                  0.357|\n",
            "|                Mali| 4.39|         0.385|                  0.308|\n",
            "|        Sierra Leone|4.374|         0.268|                  0.242|\n",
            "|           Sri Lanka|4.366|         0.949|                  0.831|\n",
            "|             Myanmar| 4.36|          0.71|                  0.555|\n",
            "|                Chad| 4.35|          0.35|                  0.192|\n",
            "|             Ukraine|4.332|          0.82|                  0.739|\n",
            "|            Ethiopia|4.286|         0.336|                  0.532|\n",
            "|           Swaziland|4.212|         0.811|                    0.0|\n",
            "|              Uganda|4.189|         0.332|                  0.443|\n",
            "|               Egypt|4.166|         0.913|                  0.644|\n",
            "|              Zambia|4.107|         0.578|                  0.426|\n",
            "|                Togo|4.085|         0.275|                   0.41|\n",
            "|               India|4.015|         0.755|                  0.588|\n",
            "|             Liberia|3.975|         0.073|                  0.443|\n",
            "|             Comoros|3.973|         0.274|                  0.505|\n",
            "|          Madagascar|3.933|         0.274|                  0.555|\n",
            "|             Lesotho|3.802|         0.489|                  0.168|\n",
            "|             Burundi|3.775|         0.046|                   0.38|\n",
            "|            Zimbabwe|3.663|         0.366|                  0.433|\n",
            "|               Haiti|3.597|         0.323|                  0.449|\n",
            "|            Botswana|3.488|         1.041|                  0.538|\n",
            "|               Syria|3.462|         0.619|                   0.44|\n",
            "|              Malawi| 3.41|         0.191|                  0.495|\n",
            "|               Yemen| 3.38|         0.287|                  0.463|\n",
            "|              Rwanda|3.334|         0.359|                  0.614|\n",
            "|            Tanzania|3.231|         0.476|                  0.499|\n",
            "|         Afghanistan|3.203|          0.35|                  0.361|\n",
            "|Central African R...|3.083|         0.026|                  0.105|\n",
            "|         South Sudan|2.853|         0.306|                  0.295|\n",
            "+--------------------+-----+--------------+-----------------------+\n",
            "\n"
          ],
          "name": "stdout"
        }
      ]
    },
    {
      "cell_type": "markdown",
      "metadata": {
        "id": "bT3pve_a5Wy_"
      },
      "source": [
        "## Acrescentando colunas com o PySpark"
      ]
    },
    {
      "cell_type": "markdown",
      "metadata": {
        "id": "Y4iyPUfR4AoV"
      },
      "source": [
        "Para concluir, voltaremos à ferramenta PySpark.\n",
        "Criaremos um novo dataframe a partir do original e inseriremos uma nova coluna com a razão entre o Score de felicidade e o PIB per capita:"
      ]
    },
    {
      "cell_type": "code",
      "metadata": {
        "id": "FJCTQIYb1Ci6"
      },
      "source": [
        "df_final = df.select(['Country or region', 'Score', 'GDP per capita', 'Healthy life expectancy'])"
      ],
      "execution_count": 75,
      "outputs": []
    },
    {
      "cell_type": "code",
      "metadata": {
        "colab": {
          "base_uri": "https://localhost:8080/"
        },
        "id": "-WX9PpF52ys9",
        "outputId": "b5c44970-873c-4b05-e094-42529cf59047"
      },
      "source": [
        "df_final.withColumn('Score per GDP', (df['Score']) / (df['GDP per capita'])).show(200)"
      ],
      "execution_count": 76,
      "outputs": [
        {
          "output_type": "stream",
          "text": [
            "+--------------------+-----+--------------+-----------------------+------------------+\n",
            "|   Country or region|Score|GDP per capita|Healthy life expectancy|     Score per GDP|\n",
            "+--------------------+-----+--------------+-----------------------+------------------+\n",
            "|             Finland|7.769|          1.34|                  0.986|  5.79776119402985|\n",
            "|             Denmark|  7.6|         1.383|                  0.996|  5.49530007230658|\n",
            "|              Norway|7.554|         1.488|                  1.028| 5.076612903225807|\n",
            "|             Iceland|7.494|          1.38|                  1.026| 5.430434782608696|\n",
            "|         Netherlands|7.488|         1.396|                  0.999| 5.363896848137537|\n",
            "|         Switzerland| 7.48|         1.452|                  1.052| 5.151515151515152|\n",
            "|              Sweden|7.343|         1.387|                  1.009| 5.294160057678442|\n",
            "|         New Zealand|7.307|         1.303|                  1.026| 5.607828089025327|\n",
            "|              Canada|7.278|         1.365|                  1.039| 5.331868131868132|\n",
            "|             Austria|7.246|         1.376|                  1.016| 5.265988372093024|\n",
            "|           Australia|7.228|         1.372|                  1.036| 5.268221574344023|\n",
            "|          Costa Rica|7.167|         1.034|                  0.963| 6.931334622823984|\n",
            "|              Israel|7.139|         1.276|                  1.029| 5.594827586206897|\n",
            "|          Luxembourg| 7.09|         1.609|                  1.012| 4.406463642013673|\n",
            "|      United Kingdom|7.054|         1.333|                  0.996| 5.291822955738935|\n",
            "|             Ireland|7.021|         1.499|                  0.999| 4.683789192795197|\n",
            "|             Germany|6.985|         1.373|                  0.987| 5.087399854333577|\n",
            "|             Belgium|6.923|         1.356|                  0.986|5.1054572271386425|\n",
            "|       United States|6.892|         1.433|                  0.874| 4.809490579204466|\n",
            "|      Czech Republic|6.852|         1.269|                   0.92|  5.39952718676123|\n",
            "|United Arab Emirates|6.825|         1.503|                  0.825| 4.540918163672655|\n",
            "|               Malta|6.726|           1.3|                  0.999| 5.173846153846154|\n",
            "|              Mexico|6.595|          1.07|                  0.861| 6.163551401869158|\n",
            "|              France|6.592|         1.324|                  1.045| 4.978851963746223|\n",
            "|              Taiwan|6.446|         1.368|                  0.914| 4.711988304093567|\n",
            "|               Chile|6.444|         1.159|                   0.92| 5.559965487489214|\n",
            "|           Guatemala|6.436|           0.8|                  0.746|             8.045|\n",
            "|        Saudi Arabia|6.375|         1.403|                  0.795|  4.54383464005702|\n",
            "|               Qatar|6.374|         1.684|                  0.871|3.7850356294536818|\n",
            "|               Spain|6.354|         1.286|                  1.062| 4.940902021772939|\n",
            "|              Panama|6.321|         1.149|                   0.91|5.5013054830287205|\n",
            "|              Brazil|  6.3|         1.004|                  0.802| 6.274900398406374|\n",
            "|             Uruguay|6.293|         1.124|                  0.891|5.5987544483985765|\n",
            "|           Singapore|6.262|         1.572|                  1.141| 3.983460559796437|\n",
            "|         El Salvador|6.253|         0.794|                  0.789| 7.875314861460957|\n",
            "|               Italy|6.223|         1.294|                  1.039| 4.809119010819165|\n",
            "|             Bahrain|6.199|         1.362|                  0.871| 4.551395007342143|\n",
            "|            Slovakia|6.198|         1.246|                  0.881| 4.974317817014446|\n",
            "|   Trinidad & Tobago|6.192|         1.231|                  0.713| 5.030056864337936|\n",
            "|              Poland|6.182|         1.206|                  0.884|  5.12603648424544|\n",
            "|          Uzbekistan|6.174|         0.745|                  0.756|  8.28724832214765|\n",
            "|           Lithuania|6.149|         1.238|                  0.818| 4.966882067851373|\n",
            "|            Colombia|6.125|         0.985|                  0.841| 6.218274111675127|\n",
            "|            Slovenia|6.118|         1.258|                  0.953| 4.863275039745628|\n",
            "|           Nicaragua|6.105|         0.694|                  0.835| 8.796829971181557|\n",
            "|              Kosovo|  6.1|         0.882|                  0.758|  6.91609977324263|\n",
            "|           Argentina|6.086|         1.092|                  0.881| 5.573260073260073|\n",
            "|             Romania| 6.07|         1.162|                  0.825| 5.223752151462995|\n",
            "|              Cyprus|6.046|         1.263|                  1.042| 4.787015043547111|\n",
            "|             Ecuador|6.028|         0.912|                  0.868| 6.609649122807017|\n",
            "|              Kuwait|6.021|           1.5|                  0.808|             4.014|\n",
            "|            Thailand|6.008|          1.05|                  0.828| 5.721904761904762|\n",
            "|              Latvia| 5.94|         1.187|                  0.812| 5.004212299915754|\n",
            "|         South Korea|5.895|         1.301|                  1.036| 4.531129900076864|\n",
            "|             Estonia|5.893|         1.237|                  0.874|  4.76394502829426|\n",
            "|             Jamaica| 5.89|         0.831|                  0.831|7.0878459687123945|\n",
            "|           Mauritius|5.888|          1.12|                  0.798| 5.257142857142856|\n",
            "|               Japan|5.886|         1.327|                  1.088| 4.435568952524491|\n",
            "|            Honduras| 5.86|         0.642|                  0.828|  9.12772585669782|\n",
            "|          Kazakhstan|5.809|         1.173|                  0.729|  4.95225916453538|\n",
            "|             Bolivia|5.779|         0.776|                  0.706| 7.447164948453608|\n",
            "|             Hungary|5.758|         1.201|                  0.828|4.7943380516236465|\n",
            "|            Paraguay|5.743|         0.855|                  0.777| 6.716959064327486|\n",
            "|     Northern Cyprus|5.718|         1.263|                  1.042| 4.527315914489312|\n",
            "|                Peru|5.697|          0.96|                  0.854|          5.934375|\n",
            "|            Portugal|5.693|         1.221|                  0.999| 4.662571662571662|\n",
            "|            Pakistan|5.653|         0.677|                  0.535| 8.350073855243721|\n",
            "|              Russia|5.648|         1.183|                  0.726| 4.774302620456466|\n",
            "|         Philippines|5.631|         0.807|                  0.657| 6.977695167286245|\n",
            "|              Serbia|5.603|         1.004|                  0.854| 5.580677290836653|\n",
            "|             Moldova|5.529|         0.685|                  0.739| 8.071532846715328|\n",
            "|               Libya|5.525|         1.044|                  0.673| 5.292145593869732|\n",
            "|          Montenegro|5.523|         1.051|                  0.871|  5.25499524262607|\n",
            "|          Tajikistan|5.467|         0.493|                  0.718|11.089249492900608|\n",
            "|             Croatia|5.432|         1.155|                  0.914| 4.703030303030303|\n",
            "|           Hong Kong| 5.43|         1.438|                  1.122| 3.776077885952712|\n",
            "|  Dominican Republic|5.425|         1.015|                  0.779| 5.344827586206897|\n",
            "|Bosnia and Herzeg...|5.386|         0.945|                  0.845|   5.6994708994709|\n",
            "|              Turkey|5.373|         1.183|                  0.808| 4.541842772612004|\n",
            "|            Malaysia|5.339|         1.221|                  0.828| 4.372645372645373|\n",
            "|             Belarus|5.323|         1.067|                  0.789| 4.988753514526711|\n",
            "|              Greece|5.287|         1.181|                  0.999| 4.476714648602878|\n",
            "|            Mongolia|5.285|         0.948|                  0.667| 5.574894514767933|\n",
            "|     North Macedonia|5.274|         0.983|                  0.838| 5.365208545269583|\n",
            "|             Nigeria|5.265|         0.696|                  0.245| 7.564655172413794|\n",
            "|          Kyrgyzstan|5.261|         0.551|                  0.723| 9.548094373865698|\n",
            "|        Turkmenistan|5.247|         1.052|                  0.657|  4.98764258555133|\n",
            "|             Algeria|5.211|         1.002|                  0.785|  5.20059880239521|\n",
            "|             Morocco|5.208|         0.801|                  0.782|  6.50187265917603|\n",
            "|          Azerbaijan|5.208|         1.043|                  0.769| 4.993288590604028|\n",
            "|             Lebanon|5.197|         0.987|                  0.815| 5.265450861195542|\n",
            "|           Indonesia|5.192|         0.931|                   0.66| 5.576799140708915|\n",
            "|               China|5.191|         1.029|                  0.893|5.0447035957240045|\n",
            "|             Vietnam|5.175|         0.741|                  0.851| 6.983805668016194|\n",
            "|              Bhutan|5.082|         0.813|                  0.604| 6.250922509225092|\n",
            "|            Cameroon|5.044|         0.549|                  0.331| 9.187613843351548|\n",
            "|            Bulgaria|5.011|         1.092|                  0.815|4.5888278388278385|\n",
            "|               Ghana|4.996|         0.611|                  0.486| 8.176759410801965|\n",
            "|         Ivory Coast|4.944|         0.569|                  0.232| 8.688927943760985|\n",
            "|               Nepal|4.913|         0.446|                  0.677|11.015695067264575|\n",
            "|              Jordan|4.906|         0.837|                  0.815| 5.861409796893668|\n",
            "|               Benin|4.883|         0.393|                  0.397|12.424936386768447|\n",
            "| Congo (Brazzaville)|4.812|         0.673|                  0.508| 7.150074294205052|\n",
            "|               Gabon|4.799|         1.057|                  0.571| 4.540208136234627|\n",
            "|                Laos|4.796|         0.764|                  0.551| 6.277486910994765|\n",
            "|        South Africa|4.722|          0.96|                  0.469|           4.91875|\n",
            "|             Albania|4.719|         0.947|                  0.874|   4.9831045406547|\n",
            "|           Venezuela|4.707|          0.96|                  0.805|          4.903125|\n",
            "|            Cambodia|  4.7|         0.574|                  0.637|  8.18815331010453|\n",
            "|Palestinian Terri...|4.696|         0.657|                  0.672| 7.147640791476407|\n",
            "|             Senegal|4.681|          0.45|                  0.571|10.402222222222223|\n",
            "|             Somalia|4.668|           0.0|                  0.268|              null|\n",
            "|             Namibia|4.639|         0.879|                  0.477| 5.277588168373152|\n",
            "|               Niger|4.628|         0.138|                  0.366| 33.53623188405797|\n",
            "|        Burkina Faso|4.587|         0.331|                   0.38| 13.85800604229607|\n",
            "|             Armenia|4.559|          0.85|                  0.815|5.3635294117647065|\n",
            "|                Iran|4.548|           1.1|                  0.785| 4.134545454545454|\n",
            "|              Guinea|4.534|          0.38|                  0.375| 11.93157894736842|\n",
            "|             Georgia|4.519|         0.886|                  0.752| 5.100451467268623|\n",
            "|              Gambia|4.516|         0.308|                  0.428|14.662337662337663|\n",
            "|               Kenya|4.509|         0.512|                  0.581|       8.806640625|\n",
            "|          Mauritania| 4.49|          0.57|                  0.489| 7.877192982456141|\n",
            "|          Mozambique|4.466|         0.204|                   0.39|  21.8921568627451|\n",
            "|             Tunisia|4.461|         0.921|                  0.815| 4.843648208469055|\n",
            "|          Bangladesh|4.456|         0.562|                  0.723|7.9288256227758005|\n",
            "|                Iraq|4.437|         1.043|                  0.574| 4.254074784276127|\n",
            "|    Congo (Kinshasa)|4.418|         0.094|                  0.357|              47.0|\n",
            "|                Mali| 4.39|         0.385|                  0.308|  11.4025974025974|\n",
            "|        Sierra Leone|4.374|         0.268|                  0.242|16.320895522388057|\n",
            "|           Sri Lanka|4.366|         0.949|                  0.831| 4.600632244467861|\n",
            "|             Myanmar| 4.36|          0.71|                  0.555| 6.140845070422536|\n",
            "|                Chad| 4.35|          0.35|                  0.192|12.428571428571429|\n",
            "|             Ukraine|4.332|          0.82|                  0.739| 5.282926829268293|\n",
            "|            Ethiopia|4.286|         0.336|                  0.532| 12.75595238095238|\n",
            "|           Swaziland|4.212|         0.811|                    0.0| 5.193588162762022|\n",
            "|              Uganda|4.189|         0.332|                  0.443|12.617469879518072|\n",
            "|               Egypt|4.166|         0.913|                  0.644| 4.562979189485214|\n",
            "|              Zambia|4.107|         0.578|                  0.426| 7.105536332179931|\n",
            "|                Togo|4.085|         0.275|                   0.41|14.854545454545454|\n",
            "|               India|4.015|         0.755|                  0.588| 5.317880794701987|\n",
            "|             Liberia|3.975|         0.073|                  0.443| 54.45205479452055|\n",
            "|             Comoros|3.973|         0.274|                  0.505|14.499999999999998|\n",
            "|          Madagascar|3.933|         0.274|                  0.555|14.354014598540145|\n",
            "|             Lesotho|3.802|         0.489|                  0.168| 7.775051124744376|\n",
            "|             Burundi|3.775|         0.046|                   0.38| 82.06521739130434|\n",
            "|            Zimbabwe|3.663|         0.366|                  0.433|10.008196721311474|\n",
            "|               Haiti|3.597|         0.323|                  0.449|11.136222910216718|\n",
            "|            Botswana|3.488|         1.041|                  0.538|3.3506243996157545|\n",
            "|               Syria|3.462|         0.619|                   0.44| 5.592891760904686|\n",
            "|              Malawi| 3.41|         0.191|                  0.495|17.853403141361255|\n",
            "|               Yemen| 3.38|         0.287|                  0.463|11.777003484320558|\n",
            "|              Rwanda|3.334|         0.359|                  0.614| 9.286908077994429|\n",
            "|            Tanzania|3.231|         0.476|                  0.499|  6.78781512605042|\n",
            "|         Afghanistan|3.203|          0.35|                  0.361| 9.151428571428571|\n",
            "|Central African R...|3.083|         0.026|                  0.105| 118.5769230769231|\n",
            "|         South Sudan|2.853|         0.306|                  0.295| 9.323529411764707|\n",
            "+--------------------+-----+--------------+-----------------------+------------------+\n",
            "\n"
          ],
          "name": "stdout"
        }
      ]
    },
    {
      "cell_type": "markdown",
      "metadata": {
        "id": "6Q6al4bx5Q9C"
      },
      "source": [
        "## Conclusão"
      ]
    },
    {
      "cell_type": "markdown",
      "metadata": {
        "id": "JaomWDev4RUU"
      },
      "source": [
        "Nota-se no dataframe acima, que o Brasil possui um Score alto proporcionalmente ao seu PIB per capita, ficando a frente, inclusive, da maioria dos países desenvolvidos neste critério. \n",
        "É possível observar também que países considerados pobres, como Libéria, Madagascar e outros países africanos, tem um Score de felicidade excelente quando comparado ao seu PIB per capita."
      ]
    },
    {
      "cell_type": "markdown",
      "metadata": {
        "id": "RlFTfyRtz291"
      },
      "source": [
        "Esta foi uma rápida análise do dataset World Happiness de 2019, mostrando os líderes em cada requisito e o posicionamento do Brasil em relação a países de porte semelhante, demonstrando também a utilização básica do PySpark e do Spark SQL."
      ]
    }
  ]
}